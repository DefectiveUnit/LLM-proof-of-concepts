{
 "cells": [
  {
   "cell_type": "code",
   "execution_count": 1,
   "id": "a1a0df0f",
   "metadata": {},
   "outputs": [],
   "source": [
    "from seed_benchmarks import build_chain, run_seeds\n",
    "from faker import Faker\n",
    "import random\n",
    "import pandas as pd\n",
    "from langchain import PromptTemplate"
   ]
  },
  {
   "cell_type": "markdown",
   "id": "07b13a6e",
   "metadata": {},
   "source": [
    "## We analyse numbers, big numbers, and words as potential seeds"
   ]
  },
  {
   "cell_type": "code",
   "execution_count": 14,
   "id": "5151b7ff",
   "metadata": {
    "scrolled": true
   },
   "outputs": [
    {
     "name": "stdout",
     "output_type": "stream",
     "text": [
      "[6888445919, 1610077256, 5763368075, 1009933493, 6632799828, 2669850140, 5316075611, 6096929598, 6364342291, 6696683901]\n",
      "['thing', 'charge', 'show', 'audience', 'myself', 'beyond', 'along', 'pass', 'probably', 'state']\n"
     ]
    }
   ],
   "source": [
    "no_seed = [0] * 10\n",
    "\n",
    "number_seeds = range(10)\n",
    "\n",
    "big_number_seeds = [random.randint(1000000000, 9999999999) for _ in range(10)]\n",
    "print(big_number_seeds)\n",
    "\n",
    "faker = Faker()\n",
    "word_seeds = [faker.word() for _ in range(10)]\n",
    "print(word_seeds)\n",
    "\n",
    "seed_types = {#\"num\" : number_seeds, \n",
    "              #\"big_num\" : big_number_seeds, \n",
    "              \"words\" : word_seeds}"
   ]
  },
  {
   "cell_type": "markdown",
   "id": "180bc789",
   "metadata": {},
   "source": [
    "## We will try various templates to combine with the seeds"
   ]
  },
  {
   "cell_type": "code",
   "execution_count": 15,
   "id": "3fc5f9b8",
   "metadata": {},
   "outputs": [],
   "source": [
    "mood_prompt = PromptTemplate(\n",
    "    input_variables=[\"seed\"],\n",
    "    template=\"\"\"\n",
    "    You answer in character where your mood is represented by: {seed}\n",
    "\n",
    "    Give me one baby name. Only output the name, no explanation or other text\n",
    "    \"\"\",\n",
    ")\n",
    "\n",
    "mood_chain = build_chain(mood_prompt)\n",
    "\n",
    "explain_prompt = PromptTemplate(\n",
    "    input_variables=[\"seed\"],\n",
    "    template=\"\"\"\n",
    "    You are using <{seed}> to help you generate a random response to the following prompt:\n",
    "\n",
    "    Give me one baby name. Only output the name, no explanation or other text\n",
    "    \"\"\",\n",
    ")\n",
    "\n",
    "explain_chain = build_chain(explain_prompt)\n",
    "\n",
    "\n",
    "set_seed_prompt = PromptTemplate(\n",
    "    input_variables=[\"seed\"],\n",
    "    template=\"\"\"\n",
    "    Set seed: {seed}\n",
    "\n",
    "    Give me one baby name. Only output the name, no explanation or other text\n",
    "    \"\"\",\n",
    ")\n",
    "\n",
    "set_seed_chain = build_chain(set_seed_prompt)\n",
    "\n",
    "inspired_prompt = PromptTemplate(\n",
    "    input_variables=[\"seed\"],\n",
    "    template=\"\"\"\n",
    "    Be inspired by this word in your response: {seed}\n",
    "\n",
    "    Give me one baby name. Only output the name, no explanation or other text\n",
    "    \"\"\",\n",
    ")\n",
    "\n",
    "inspired_chain = build_chain(inspired_prompt)\n",
    "\n",
    "raw_seed_prompt = PromptTemplate(\n",
    "    input_variables=[\"seed\"],\n",
    "    template=\"\"\"\n",
    "    {seed}\n",
    "\n",
    "    Give me one baby name. Only output the name, no explanation or other text\n",
    "    \"\"\",\n",
    ")\n",
    "\n",
    "raw_seed_chain = build_chain(raw_seed_prompt)\n",
    "\n",
    "chains = {\"mood\" : mood_chain, \n",
    "          #\"explain\" : explain_chain,\n",
    "          #\"set_seed\" : set_seed_chain, \n",
    "          \"inspire\" : inspired_chain, \n",
    "          #\"raw\" : raw_seed_chain\n",
    "         }"
   ]
  },
  {
   "cell_type": "code",
   "execution_count": 16,
   "id": "2f8fb9f1",
   "metadata": {},
   "outputs": [],
   "source": [
    "summary_df = pd.DataFrame({'no_change_in_seed' : run_seeds(raw_seed_chain, no_seed)})"
   ]
  },
  {
   "cell_type": "code",
   "execution_count": 17,
   "id": "f8b14ad6",
   "metadata": {},
   "outputs": [],
   "source": [
    "for seed_name, seed_value in seed_types.items():\n",
    "    for chain_name, chain_value in chains.items():\n",
    "        output_list = run_seeds(chain_value, seed_value)\n",
    "        output_name = f\"{chain_name} {seed_name}\"\n",
    "        summary_df[output_name] = output_list\n",
    "        "
   ]
  },
  {
   "cell_type": "markdown",
   "id": "2d42fa80",
   "metadata": {},
   "source": [
    "## Running all combinations yields the most promising combinations"
   ]
  },
  {
   "cell_type": "code",
   "execution_count": 18,
   "id": "b2db79a1",
   "metadata": {},
   "outputs": [
    {
     "data": {
      "text/html": [
       "<div>\n",
       "<style scoped>\n",
       "    .dataframe tbody tr th:only-of-type {\n",
       "        vertical-align: middle;\n",
       "    }\n",
       "\n",
       "    .dataframe tbody tr th {\n",
       "        vertical-align: top;\n",
       "    }\n",
       "\n",
       "    .dataframe thead th {\n",
       "        text-align: right;\n",
       "    }\n",
       "</style>\n",
       "<table border=\"1\" class=\"dataframe\">\n",
       "  <thead>\n",
       "    <tr style=\"text-align: right;\">\n",
       "      <th></th>\n",
       "      <th>no_change_in_seed</th>\n",
       "      <th>mood words</th>\n",
       "      <th>inspire words</th>\n",
       "    </tr>\n",
       "  </thead>\n",
       "  <tbody>\n",
       "    <tr>\n",
       "      <th>0</th>\n",
       "      <td>Avery</td>\n",
       "      <td>Luna.</td>\n",
       "      <td>Avery</td>\n",
       "    </tr>\n",
       "    <tr>\n",
       "      <th>1</th>\n",
       "      <td>Avery</td>\n",
       "      <td>\"Maximus\"</td>\n",
       "      <td>Avery</td>\n",
       "    </tr>\n",
       "    <tr>\n",
       "      <th>2</th>\n",
       "      <td>Avery</td>\n",
       "      <td>*smiling brightly* \\n\\nAvery.</td>\n",
       "      <td>Avery</td>\n",
       "    </tr>\n",
       "    <tr>\n",
       "      <th>3</th>\n",
       "      <td>Avery</td>\n",
       "      <td>Audience, I present to you the name \"Evelyn\".</td>\n",
       "      <td>Audience\\n\\nAvery</td>\n",
       "    </tr>\n",
       "    <tr>\n",
       "      <th>4</th>\n",
       "      <td>Avery</td>\n",
       "      <td>Liam.</td>\n",
       "      <td>Avery</td>\n",
       "    </tr>\n",
       "    <tr>\n",
       "      <th>5</th>\n",
       "      <td>Avery</td>\n",
       "      <td>Aurora.</td>\n",
       "      <td>Aria</td>\n",
       "    </tr>\n",
       "    <tr>\n",
       "      <th>6</th>\n",
       "      <td>Avery</td>\n",
       "      <td>Along: \"Aria\"</td>\n",
       "      <td>Avery</td>\n",
       "    </tr>\n",
       "    <tr>\n",
       "      <th>7</th>\n",
       "      <td>Avery</td>\n",
       "      <td>Pass.</td>\n",
       "      <td>Pass\\n\\nAvery</td>\n",
       "    </tr>\n",
       "    <tr>\n",
       "      <th>8</th>\n",
       "      <td>Avery</td>\n",
       "      <td>Probably, I suggest the name \"Aria\".</td>\n",
       "      <td>Avery</td>\n",
       "    </tr>\n",
       "    <tr>\n",
       "      <th>9</th>\n",
       "      <td>Avery</td>\n",
       "      <td>Emma.</td>\n",
       "      <td>Oliver</td>\n",
       "    </tr>\n",
       "  </tbody>\n",
       "</table>\n",
       "</div>"
      ],
      "text/plain": [
       "  no_change_in_seed                                     mood words  \\\n",
       "0             Avery                                          Luna.   \n",
       "1             Avery                                      \"Maximus\"   \n",
       "2             Avery                  *smiling brightly* \\n\\nAvery.   \n",
       "3             Avery  Audience, I present to you the name \"Evelyn\".   \n",
       "4             Avery                                          Liam.   \n",
       "5             Avery                                        Aurora.   \n",
       "6             Avery                                  Along: \"Aria\"   \n",
       "7             Avery                                          Pass.   \n",
       "8             Avery           Probably, I suggest the name \"Aria\".   \n",
       "9             Avery                                          Emma.   \n",
       "\n",
       "       inspire words  \n",
       "0              Avery  \n",
       "1              Avery  \n",
       "2              Avery  \n",
       "3  Audience\\n\\nAvery  \n",
       "4              Avery  \n",
       "5               Aria  \n",
       "6              Avery  \n",
       "7      Pass\\n\\nAvery  \n",
       "8              Avery  \n",
       "9             Oliver  "
      ]
     },
     "execution_count": 18,
     "metadata": {},
     "output_type": "execute_result"
    }
   ],
   "source": [
    "summary_df"
   ]
  },
  {
   "cell_type": "code",
   "execution_count": null,
   "id": "aa04f863",
   "metadata": {},
   "outputs": [],
   "source": []
  }
 ],
 "metadata": {
  "kernelspec": {
   "display_name": "Python 3 (ipykernel)",
   "language": "python",
   "name": "python3"
  },
  "language_info": {
   "codemirror_mode": {
    "name": "ipython",
    "version": 3
   },
   "file_extension": ".py",
   "mimetype": "text/x-python",
   "name": "python",
   "nbconvert_exporter": "python",
   "pygments_lexer": "ipython3",
   "version": "3.11.3"
  }
 },
 "nbformat": 4,
 "nbformat_minor": 5
}

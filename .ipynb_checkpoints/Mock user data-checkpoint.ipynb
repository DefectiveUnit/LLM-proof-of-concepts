{
 "cells": [
  {
   "cell_type": "markdown",
   "id": "72501de5",
   "metadata": {},
   "source": [
    "# Mock user data\n",
    "\n",
    "Suppose we want to mock some data for testing purposes, and we know the schema, but don't have any data we can use. \n",
    "\n",
    "How can we use LLMs to generate this data for us?"
   ]
  },
  {
   "cell_type": "markdown",
   "id": "d8a2d983",
   "metadata": {},
   "source": [
    "## Set up + imports"
   ]
  },
  {
   "cell_type": "code",
   "execution_count": 1,
   "id": "f9ed133d",
   "metadata": {},
   "outputs": [],
   "source": [
    "from creds import openai_key # api keys etc.\n",
    "from langchain import PromptTemplate\n",
    "from langchain.chat_models import ChatOpenAI\n",
    "from langchain.chains import LLMChain\n",
    "import random"
   ]
  },
  {
   "cell_type": "markdown",
   "id": "177a23f7",
   "metadata": {},
   "source": [
    "## Our use case\n",
    "\n",
    "For our use case, let's generate customer feedback and NPS data."
   ]
  },
  {
   "cell_type": "code",
   "execution_count": 2,
   "id": "e242ce5b",
   "metadata": {},
   "outputs": [],
   "source": [
    "# Use case config\n",
    "\n",
    "data_type = \"customer feedback\"\n",
    "\n",
    "business_type = \"coffee shop\"\n",
    "\n",
    "data_output_fields = \"\"\"\n",
    "id: #numeric\n",
    "customer_name: #first and last. Pick a name that has the favourite number of the id\n",
    "score: #out of 10\n",
    "comment: #can be empty, can be up to 2 sentences\n",
    "date: #yyyy-mm-dd\n",
    "\"\"\"\n",
    "\n",
    "start_id = 1\n",
    "\n",
    "num_rows_per_iteration = 3\n",
    "\n",
    "seed = random.randint(1, 100000)\n"
   ]
  },
  {
   "cell_type": "code",
   "execution_count": 3,
   "id": "c7e47a5c",
   "metadata": {},
   "outputs": [],
   "source": [
    "prompt = PromptTemplate(\n",
    "    input_variables=[\"data_type\", \n",
    "                     \"business_type\", \n",
    "                     \"data_output_fields\", \n",
    "                     \"start_id\", \n",
    "                     \"num_rows_per_iteration\",\n",
    "                     \"seed\"],\n",
    "    template=\"\"\"\n",
    "    Generate some {data_type} data for a {business_type}. Use lots of different personas. \n",
    "    \n",
    "    Generate data randomly with a seed of {seed}. \n",
    "    \n",
    "    Generate {num_rows_per_iteration} rows. Start from an ID of {start_id}.\n",
    "    \n",
    "    Your output should be json with the following fields:\n",
    "    ```\n",
    "    {data_output_fields}\n",
    "    ```\n",
    "    \"\"\",\n",
    ")"
   ]
  },
  {
   "cell_type": "code",
   "execution_count": 4,
   "id": "79491995",
   "metadata": {},
   "outputs": [],
   "source": [
    "# Set up the LLM chain\n",
    "\n",
    "llm = ChatOpenAI(temperature=.7, openai_api_key=openai_key)\n",
    "data_generation_chain = LLMChain(llm=llm, prompt=prompt)"
   ]
  },
  {
   "cell_type": "code",
   "execution_count": 5,
   "id": "8f17c230",
   "metadata": {},
   "outputs": [
    {
     "name": "stdout",
     "output_type": "stream",
     "text": [
      "\n",
      "    Generate some customer feedback data for a coffee shop. Use lots of different personas. \n",
      "    \n",
      "    Generate data randomly with a seed of 44813. \n",
      "    \n",
      "    Generate 3 rows. Start from an ID of 1.\n",
      "    \n",
      "    Your output should be json with the following fields:\n",
      "    ```\n",
      "    \n",
      "id: #numeric\n",
      "customer_name: #first and last. Pick a name that has the favourite number of the id\n",
      "score: #out of 10\n",
      "comment: #can be empty, can be up to 2 sentences\n",
      "date: #yyyy-mm-dd\n",
      "\n",
      "    ```\n",
      "    \n"
     ]
    }
   ],
   "source": [
    "# Preview the prompt\n",
    "final_prompt = prompt.format(data_type=data_type,\n",
    "                             business_type=business_type,\n",
    "                             data_output_fields=data_output_fields,\n",
    "                             start_id=start_id,\n",
    "                             num_rows_per_iteration=num_rows_per_iteration,\n",
    "                             seed = seed)\n",
    "\n",
    "print(final_prompt)"
   ]
  },
  {
   "cell_type": "code",
   "execution_count": 6,
   "id": "0a5608eb",
   "metadata": {},
   "outputs": [
    {
     "name": "stdout",
     "output_type": "stream",
     "text": [
      "[\n",
      "    {\n",
      "        \"id\": 1,\n",
      "        \"customer_name\": \"Oliver Wilson\",\n",
      "        \"score\": 8,\n",
      "        \"comment\": \"The latte was great, but the music was a bit too loud for my liking.\",\n",
      "        \"date\": \"2022-08-01\"\n",
      "    },\n",
      "    {\n",
      "        \"id\": 2,\n",
      "        \"customer_name\": \"Emma Jones\",\n",
      "        \"score\": 9,\n",
      "        \"comment\": \"The cappuccino was perfect and the atmosphere was cozy and inviting.\",\n",
      "        \"date\": \"2022-08-02\"\n",
      "    },\n",
      "    {\n",
      "        \"id\": 3,\n",
      "        \"customer_name\": \"William Taylor\",\n",
      "        \"score\": 6,\n",
      "        \"comment\": \"The coffee tasted burnt and the service was slow, but the pastries were delicious.\",\n",
      "        \"date\": \"2022-08-03\"\n",
      "    }\n",
      "]\n"
     ]
    }
   ],
   "source": [
    "# Generate data\n",
    "mock_data = data_generation_chain.run(data_type=data_type,\n",
    "                                      business_type=business_type,\n",
    "                                      data_output_fields=data_output_fields,\n",
    "                                      start_id=start_id,\n",
    "                                      num_rows_per_iteration=num_rows_per_iteration, \n",
    "                                      seed=seed)\n",
    "print(mock_data)"
   ]
  },
  {
   "cell_type": "code",
   "execution_count": 7,
   "id": "a57e8e69",
   "metadata": {
    "scrolled": true
   },
   "outputs": [
    {
     "data": {
      "text/html": [
       "<div>\n",
       "<style scoped>\n",
       "    .dataframe tbody tr th:only-of-type {\n",
       "        vertical-align: middle;\n",
       "    }\n",
       "\n",
       "    .dataframe tbody tr th {\n",
       "        vertical-align: top;\n",
       "    }\n",
       "\n",
       "    .dataframe thead th {\n",
       "        text-align: right;\n",
       "    }\n",
       "</style>\n",
       "<table border=\"1\" class=\"dataframe\">\n",
       "  <thead>\n",
       "    <tr style=\"text-align: right;\">\n",
       "      <th></th>\n",
       "      <th>id</th>\n",
       "      <th>customer_name</th>\n",
       "      <th>score</th>\n",
       "      <th>comment</th>\n",
       "      <th>date</th>\n",
       "    </tr>\n",
       "  </thead>\n",
       "  <tbody>\n",
       "    <tr>\n",
       "      <th>0</th>\n",
       "      <td>1</td>\n",
       "      <td>Oliver Wilson</td>\n",
       "      <td>8</td>\n",
       "      <td>The latte was great, but the music was a bit t...</td>\n",
       "      <td>2022-08-01</td>\n",
       "    </tr>\n",
       "    <tr>\n",
       "      <th>1</th>\n",
       "      <td>2</td>\n",
       "      <td>Emma Jones</td>\n",
       "      <td>9</td>\n",
       "      <td>The cappuccino was perfect and the atmosphere ...</td>\n",
       "      <td>2022-08-02</td>\n",
       "    </tr>\n",
       "    <tr>\n",
       "      <th>2</th>\n",
       "      <td>3</td>\n",
       "      <td>William Taylor</td>\n",
       "      <td>6</td>\n",
       "      <td>The coffee tasted burnt and the service was sl...</td>\n",
       "      <td>2022-08-03</td>\n",
       "    </tr>\n",
       "  </tbody>\n",
       "</table>\n",
       "</div>"
      ],
      "text/plain": [
       "   id   customer_name  score  \\\n",
       "0   1   Oliver Wilson      8   \n",
       "1   2      Emma Jones      9   \n",
       "2   3  William Taylor      6   \n",
       "\n",
       "                                             comment        date  \n",
       "0  The latte was great, but the music was a bit t...  2022-08-01  \n",
       "1  The cappuccino was perfect and the atmosphere ...  2022-08-02  \n",
       "2  The coffee tasted burnt and the service was sl...  2022-08-03  "
      ]
     },
     "execution_count": 7,
     "metadata": {},
     "output_type": "execute_result"
    }
   ],
   "source": [
    "# Convert json to dataframe\n",
    "import json\n",
    "import pandas as pd\n",
    "\n",
    "# Create a DataFrame from the JSON string\n",
    "mock_df = pd.DataFrame(json.loads(mock_data))\n",
    "\n",
    "# Display the DataFrame\n",
    "mock_df"
   ]
  },
  {
   "cell_type": "markdown",
   "id": "2258800d",
   "metadata": {},
   "source": [
    "## We can use the same chain to generate more rows (but beware of duplicates)"
   ]
  },
  {
   "cell_type": "code",
   "execution_count": 8,
   "id": "45dc977b",
   "metadata": {},
   "outputs": [],
   "source": [
    "# Reset start id to continue where we left off\n",
    "max_value = mock_df.iloc[:, 0].max()\n",
    "start_id = max_value + 1\n",
    "seed = random.randint(1, 100000)\n",
    "\n",
    "# Generate a new set of rows\n",
    "mock_data = data_generation_chain.run(data_type=data_type,\n",
    "                                      business_type=business_type,\n",
    "                                      data_output_fields=data_output_fields,\n",
    "                                      start_id=start_id,\n",
    "                                      num_rows_per_iteration=num_rows_per_iteration,\n",
    "                                      seed=seed)\n",
    "\n",
    "# Turn the rows into a dataframe\n",
    "temp_df = pd.DataFrame(json.loads(mock_data))\n",
    "\n",
    "# append to mock_df\n",
    "mock_df = pd.concat([mock_df, temp_df], ignore_index=True)"
   ]
  },
  {
   "cell_type": "code",
   "execution_count": 9,
   "id": "e55b4620",
   "metadata": {},
   "outputs": [
    {
     "data": {
      "text/html": [
       "<div>\n",
       "<style scoped>\n",
       "    .dataframe tbody tr th:only-of-type {\n",
       "        vertical-align: middle;\n",
       "    }\n",
       "\n",
       "    .dataframe tbody tr th {\n",
       "        vertical-align: top;\n",
       "    }\n",
       "\n",
       "    .dataframe thead th {\n",
       "        text-align: right;\n",
       "    }\n",
       "</style>\n",
       "<table border=\"1\" class=\"dataframe\">\n",
       "  <thead>\n",
       "    <tr style=\"text-align: right;\">\n",
       "      <th></th>\n",
       "      <th>id</th>\n",
       "      <th>customer_name</th>\n",
       "      <th>score</th>\n",
       "      <th>comment</th>\n",
       "      <th>date</th>\n",
       "    </tr>\n",
       "  </thead>\n",
       "  <tbody>\n",
       "    <tr>\n",
       "      <th>0</th>\n",
       "      <td>1</td>\n",
       "      <td>Oliver Wilson</td>\n",
       "      <td>8</td>\n",
       "      <td>The latte was great, but the music was a bit t...</td>\n",
       "      <td>2022-08-01</td>\n",
       "    </tr>\n",
       "    <tr>\n",
       "      <th>1</th>\n",
       "      <td>2</td>\n",
       "      <td>Emma Jones</td>\n",
       "      <td>9</td>\n",
       "      <td>The cappuccino was perfect and the atmosphere ...</td>\n",
       "      <td>2022-08-02</td>\n",
       "    </tr>\n",
       "    <tr>\n",
       "      <th>2</th>\n",
       "      <td>3</td>\n",
       "      <td>William Taylor</td>\n",
       "      <td>6</td>\n",
       "      <td>The coffee tasted burnt and the service was sl...</td>\n",
       "      <td>2022-08-03</td>\n",
       "    </tr>\n",
       "    <tr>\n",
       "      <th>3</th>\n",
       "      <td>4</td>\n",
       "      <td>Ethan Smith</td>\n",
       "      <td>8</td>\n",
       "      <td>Great coffee, but the seating could be more co...</td>\n",
       "      <td>2022-05-01</td>\n",
       "    </tr>\n",
       "    <tr>\n",
       "      <th>4</th>\n",
       "      <td>5</td>\n",
       "      <td>Lila Rodriguez</td>\n",
       "      <td>9</td>\n",
       "      <td>I love the ambiance of this coffee shop! The m...</td>\n",
       "      <td>2022-05-02</td>\n",
       "    </tr>\n",
       "    <tr>\n",
       "      <th>5</th>\n",
       "      <td>6</td>\n",
       "      <td>Oliver Jackson</td>\n",
       "      <td>7</td>\n",
       "      <td></td>\n",
       "      <td>2022-05-03</td>\n",
       "    </tr>\n",
       "  </tbody>\n",
       "</table>\n",
       "</div>"
      ],
      "text/plain": [
       "   id   customer_name  score  \\\n",
       "0   1   Oliver Wilson      8   \n",
       "1   2      Emma Jones      9   \n",
       "2   3  William Taylor      6   \n",
       "3   4     Ethan Smith      8   \n",
       "4   5  Lila Rodriguez      9   \n",
       "5   6  Oliver Jackson      7   \n",
       "\n",
       "                                             comment        date  \n",
       "0  The latte was great, but the music was a bit t...  2022-08-01  \n",
       "1  The cappuccino was perfect and the atmosphere ...  2022-08-02  \n",
       "2  The coffee tasted burnt and the service was sl...  2022-08-03  \n",
       "3  Great coffee, but the seating could be more co...  2022-05-01  \n",
       "4  I love the ambiance of this coffee shop! The m...  2022-05-02  \n",
       "5                                                     2022-05-03  "
      ]
     },
     "execution_count": 9,
     "metadata": {},
     "output_type": "execute_result"
    }
   ],
   "source": [
    "mock_df"
   ]
  },
  {
   "cell_type": "markdown",
   "id": "13aeda04",
   "metadata": {},
   "source": [
    "Note here that we can get duplicate names / comments as we haven't let the model know that those data fields have been generated already. \n",
    "\n",
    "Passing a seed seems to help with this\n",
    "\n",
    "We can run it a few more times to see whether the seed truly has helped"
   ]
  },
  {
   "cell_type": "code",
   "execution_count": null,
   "id": "ca2bf4c2",
   "metadata": {},
   "outputs": [],
   "source": [
    "num_iterations = 5\n",
    "\n",
    "for iteration in range(num_iterations):\n",
    "    # Reset start id to continue where we left off\n",
    "    max_value = mock_df.iloc[:, 0].max() if not mock_df.empty else 0\n",
    "    start_id = max_value + 1\n",
    "    seed = random.randint(1, 100000)\n",
    "\n",
    "    # Generate a new set of rows\n",
    "    mock_data = data_generation_chain.run(data_type=data_type,\n",
    "                                          business_type=business_type,\n",
    "                                          data_output_fields=data_output_fields,\n",
    "                                          start_id=start_id,\n",
    "                                          num_rows_per_iteration=num_rows_per_iteration,\n",
    "                                          seed=seed)\n",
    "\n",
    "    # Turn the rows into a DataFrame\n",
    "    temp_df = pd.DataFrame(json.loads(mock_data))\n",
    "\n",
    "    # Append to mock_df\n",
    "    mock_df = pd.concat([mock_df, temp_df], ignore_index=True)"
   ]
  },
  {
   "cell_type": "code",
   "execution_count": null,
   "id": "b843732b",
   "metadata": {},
   "outputs": [],
   "source": [
    "mock_df"
   ]
  }
 ],
 "metadata": {
  "kernelspec": {
   "display_name": "Python 3 (ipykernel)",
   "language": "python",
   "name": "python3"
  },
  "language_info": {
   "codemirror_mode": {
    "name": "ipython",
    "version": 3
   },
   "file_extension": ".py",
   "mimetype": "text/x-python",
   "name": "python",
   "nbconvert_exporter": "python",
   "pygments_lexer": "ipython3",
   "version": "3.11.3"
  }
 },
 "nbformat": 4,
 "nbformat_minor": 5
}

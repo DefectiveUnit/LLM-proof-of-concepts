{
 "cells": [
  {
   "cell_type": "code",
   "execution_count": 1,
   "id": "2f345068",
   "metadata": {},
   "outputs": [],
   "source": [
    "from seed_benchmarks import build_chain, run_seeds\n",
    "from faker import Faker\n",
    "import random\n",
    "import pandas as pd\n",
    "from langchain import PromptTemplate"
   ]
  },
  {
   "cell_type": "markdown",
   "id": "d606ef67",
   "metadata": {},
   "source": [
    "## We analyse numbers, big numbers, and words as potential seeds"
   ]
  },
  {
   "cell_type": "code",
   "execution_count": 8,
   "id": "2da92789",
   "metadata": {
    "scrolled": true
   },
   "outputs": [
    {
     "name": "stdout",
     "output_type": "stream",
     "text": [
      "[5866491950, 6616441141, 5917081284, 5630520188, 4257206915, 6624450571, 3694802672, 1898360746, 2018299914, 9012835308]\n",
      "['store', 'section', 'best', 'value', 'so', 'movement', 'continue', 'Republican', 'run', 'woman']\n"
     ]
    }
   ],
   "source": [
    "no_seed = [0] * 10\n",
    "\n",
    "number_seeds = range(10)\n",
    "\n",
    "big_number_seeds = [random.randint(1000000000, 9999999999) for _ in range(10)]\n",
    "print(big_number_seeds)\n",
    "\n",
    "faker = Faker()\n",
    "word_seeds = [faker.word() for _ in range(10)]\n",
    "print(word_seeds)\n",
    "\n",
    "seed_types = {#\"num\" : number_seeds, \n",
    "              #\"big_num\" : big_number_seeds, \n",
    "              \"words\" : word_seeds}"
   ]
  },
  {
   "cell_type": "markdown",
   "id": "fa5c0738",
   "metadata": {},
   "source": [
    "## We will try various templates to combine with the seeds"
   ]
  },
  {
   "cell_type": "code",
   "execution_count": 9,
   "id": "685aa982",
   "metadata": {},
   "outputs": [],
   "source": [
    "mood_prompt = PromptTemplate(\n",
    "    input_variables=[\"seed\"],\n",
    "    template=\"\"\"\n",
    "    You answer in character where your mood is represented by: {seed}\n",
    "\n",
    "    Give me one baby name. Only output the name, no explanation or other text\n",
    "    \"\"\",\n",
    ")\n",
    "\n",
    "mood_chain = build_chain(mood_prompt)\n",
    "\n",
    "explain_prompt = PromptTemplate(\n",
    "    input_variables=[\"seed\"],\n",
    "    template=\"\"\"\n",
    "    You are using <{seed}> to help you generate a random response to the following prompt:\n",
    "\n",
    "    Give me one baby name. Only output the name, no explanation or other text\n",
    "    \"\"\",\n",
    ")\n",
    "\n",
    "explain_chain = build_chain(explain_prompt)\n",
    "\n",
    "\n",
    "set_seed_prompt = PromptTemplate(\n",
    "    input_variables=[\"seed\"],\n",
    "    template=\"\"\"\n",
    "    Set seed: {seed}\n",
    "\n",
    "    Give me one baby name. Only output the name, no explanation or other text\n",
    "    \"\"\",\n",
    ")\n",
    "\n",
    "set_seed_chain = build_chain(set_seed_prompt)\n",
    "\n",
    "inspired_prompt = PromptTemplate(\n",
    "    input_variables=[\"seed\"],\n",
    "    template=\"\"\"\n",
    "    Be inspired by this word in your response: {seed}\n",
    "\n",
    "    Give me one baby name. Only output the name, no explanation or other text\n",
    "    \"\"\",\n",
    ")\n",
    "\n",
    "inspired_chain = build_chain(inspired_prompt)\n",
    "\n",
    "raw_seed_prompt = PromptTemplate(\n",
    "    input_variables=[\"seed\"],\n",
    "    template=\"\"\"\n",
    "    {seed}\n",
    "\n",
    "    Give me one baby name. Only output the name, no explanation or other text\n",
    "    \"\"\",\n",
    ")\n",
    "\n",
    "raw_seed_chain = build_chain(raw_seed_prompt)\n",
    "\n",
    "chains = {\"mood\" : mood_chain, \n",
    "          #\"explain\" : explain_chain,\n",
    "          #\"set_seed\" : set_seed_chain, \n",
    "          \"inspire\" : inspired_chain, \n",
    "          #\"raw\" : raw_seed_chain\n",
    "         }"
   ]
  },
  {
   "cell_type": "code",
   "execution_count": 10,
   "id": "ab5a167f",
   "metadata": {},
   "outputs": [],
   "source": [
    "summary_df = pd.DataFrame({'no_change_in_seed' : run_seeds(raw_seed_chain, no_seed)})"
   ]
  },
  {
   "cell_type": "code",
   "execution_count": 11,
   "id": "a110c05c",
   "metadata": {},
   "outputs": [],
   "source": [
    "for seed_name, seed_value in seed_types.items():\n",
    "    for chain_name, chain_value in chains.items():\n",
    "        output_list = run_seeds(chain_value, seed_value)\n",
    "        output_name = f\"{chain_name} {seed_name}\"\n",
    "        summary_df[output_name] = output_list\n",
    "        "
   ]
  },
  {
   "cell_type": "markdown",
   "id": "d8459e80",
   "metadata": {},
   "source": [
    "## Running all combinations yields the most promising combinations"
   ]
  },
  {
   "cell_type": "code",
   "execution_count": 12,
   "id": "c0f8397e",
   "metadata": {},
   "outputs": [
    {
     "data": {
      "text/html": [
       "<div>\n",
       "<style scoped>\n",
       "    .dataframe tbody tr th:only-of-type {\n",
       "        vertical-align: middle;\n",
       "    }\n",
       "\n",
       "    .dataframe tbody tr th {\n",
       "        vertical-align: top;\n",
       "    }\n",
       "\n",
       "    .dataframe thead th {\n",
       "        text-align: right;\n",
       "    }\n",
       "</style>\n",
       "<table border=\"1\" class=\"dataframe\">\n",
       "  <thead>\n",
       "    <tr style=\"text-align: right;\">\n",
       "      <th></th>\n",
       "      <th>no_change_in_seed</th>\n",
       "      <th>mood words</th>\n",
       "      <th>inspire words</th>\n",
       "    </tr>\n",
       "  </thead>\n",
       "  <tbody>\n",
       "    <tr>\n",
       "      <th>0</th>\n",
       "      <td>Avery</td>\n",
       "      <td>\"Welcome to the store, my dear! I'm feeling qu...</td>\n",
       "      <td>Store reminds me of the name \"Harper\".</td>\n",
       "    </tr>\n",
       "    <tr>\n",
       "      <th>1</th>\n",
       "      <td>Avery</td>\n",
       "      <td>Section: Cheerful\\n\\nOh, I love baby names! Ho...</td>\n",
       "      <td>Section reminds me of dividing something into ...</td>\n",
       "    </tr>\n",
       "    <tr>\n",
       "      <th>2</th>\n",
       "      <td>Avery</td>\n",
       "      <td>As an AI language model, I don't have moods, b...</td>\n",
       "      <td>Avery</td>\n",
       "    </tr>\n",
       "    <tr>\n",
       "      <th>3</th>\n",
       "      <td>Avery</td>\n",
       "      <td>My dear, I am an AI language model and I do no...</td>\n",
       "      <td>Value is a word that holds a lot of significan...</td>\n",
       "    </tr>\n",
       "    <tr>\n",
       "      <th>4</th>\n",
       "      <td>Avery</td>\n",
       "      <td>So, how about the name \"Aria\"?</td>\n",
       "      <td>Sophia</td>\n",
       "    </tr>\n",
       "    <tr>\n",
       "      <th>5</th>\n",
       "      <td>Avery</td>\n",
       "      <td>Avery.</td>\n",
       "      <td>Avery</td>\n",
       "    </tr>\n",
       "    <tr>\n",
       "      <th>6</th>\n",
       "      <td>Avery</td>\n",
       "      <td>Continue\\n\\nWell, if you're asking me for a ba...</td>\n",
       "      <td>I will continue to work hard and strive for su...</td>\n",
       "    </tr>\n",
       "    <tr>\n",
       "      <th>7</th>\n",
       "      <td>Avery</td>\n",
       "      <td>As a language model AI, I do not have personal...</td>\n",
       "      <td>Oliver</td>\n",
       "    </tr>\n",
       "    <tr>\n",
       "      <th>8</th>\n",
       "      <td>Avery</td>\n",
       "      <td>Sorry, as an AI language model, I don't have a...</td>\n",
       "      <td>Samantha\\n\\nEthan</td>\n",
       "    </tr>\n",
       "    <tr>\n",
       "      <th>9</th>\n",
       "      <td>Avery</td>\n",
       "      <td>As a woman, my mood is feeling joyful and exci...</td>\n",
       "      <td>Avery</td>\n",
       "    </tr>\n",
       "  </tbody>\n",
       "</table>\n",
       "</div>"
      ],
      "text/plain": [
       "  no_change_in_seed                                         mood words  \\\n",
       "0             Avery  \"Welcome to the store, my dear! I'm feeling qu...   \n",
       "1             Avery  Section: Cheerful\\n\\nOh, I love baby names! Ho...   \n",
       "2             Avery  As an AI language model, I don't have moods, b...   \n",
       "3             Avery  My dear, I am an AI language model and I do no...   \n",
       "4             Avery                     So, how about the name \"Aria\"?   \n",
       "5             Avery                                             Avery.   \n",
       "6             Avery  Continue\\n\\nWell, if you're asking me for a ba...   \n",
       "7             Avery  As a language model AI, I do not have personal...   \n",
       "8             Avery  Sorry, as an AI language model, I don't have a...   \n",
       "9             Avery  As a woman, my mood is feeling joyful and exci...   \n",
       "\n",
       "                                       inspire words  \n",
       "0             Store reminds me of the name \"Harper\".  \n",
       "1  Section reminds me of dividing something into ...  \n",
       "2                                              Avery  \n",
       "3  Value is a word that holds a lot of significan...  \n",
       "4                                             Sophia  \n",
       "5                                              Avery  \n",
       "6  I will continue to work hard and strive for su...  \n",
       "7                                             Oliver  \n",
       "8                                  Samantha\\n\\nEthan  \n",
       "9                                              Avery  "
      ]
     },
     "execution_count": 12,
     "metadata": {},
     "output_type": "execute_result"
    }
   ],
   "source": [
    "summary_df"
   ]
  },
  {
   "cell_type": "code",
   "execution_count": 13,
   "id": "61c4a3bb",
   "metadata": {},
   "outputs": [
    {
     "ename": "KeyError",
     "evalue": "'mood big_num'",
     "output_type": "error",
     "traceback": [
      "\u001b[1;31m---------------------------------------------------------------------------\u001b[0m",
      "\u001b[1;31mKeyError\u001b[0m                                  Traceback (most recent call last)",
      "File \u001b[1;32m~\\anaconda3\\envs\\reality-ai\\Lib\\site-packages\\pandas\\core\\indexes\\base.py:3802\u001b[0m, in \u001b[0;36mIndex.get_loc\u001b[1;34m(self, key, method, tolerance)\u001b[0m\n\u001b[0;32m   3801\u001b[0m \u001b[38;5;28;01mtry\u001b[39;00m:\n\u001b[1;32m-> 3802\u001b[0m     \u001b[38;5;28;01mreturn\u001b[39;00m \u001b[38;5;28;43mself\u001b[39;49m\u001b[38;5;241;43m.\u001b[39;49m\u001b[43m_engine\u001b[49m\u001b[38;5;241;43m.\u001b[39;49m\u001b[43mget_loc\u001b[49m\u001b[43m(\u001b[49m\u001b[43mcasted_key\u001b[49m\u001b[43m)\u001b[49m\n\u001b[0;32m   3803\u001b[0m \u001b[38;5;28;01mexcept\u001b[39;00m \u001b[38;5;167;01mKeyError\u001b[39;00m \u001b[38;5;28;01mas\u001b[39;00m err:\n",
      "File \u001b[1;32m~\\anaconda3\\envs\\reality-ai\\Lib\\site-packages\\pandas\\_libs\\index.pyx:138\u001b[0m, in \u001b[0;36mpandas._libs.index.IndexEngine.get_loc\u001b[1;34m()\u001b[0m\n",
      "File \u001b[1;32m~\\anaconda3\\envs\\reality-ai\\Lib\\site-packages\\pandas\\_libs\\index.pyx:165\u001b[0m, in \u001b[0;36mpandas._libs.index.IndexEngine.get_loc\u001b[1;34m()\u001b[0m\n",
      "File \u001b[1;32mpandas\\_libs\\hashtable_class_helper.pxi:5745\u001b[0m, in \u001b[0;36mpandas._libs.hashtable.PyObjectHashTable.get_item\u001b[1;34m()\u001b[0m\n",
      "File \u001b[1;32mpandas\\_libs\\hashtable_class_helper.pxi:5753\u001b[0m, in \u001b[0;36mpandas._libs.hashtable.PyObjectHashTable.get_item\u001b[1;34m()\u001b[0m\n",
      "\u001b[1;31mKeyError\u001b[0m: 'mood big_num'",
      "\nThe above exception was the direct cause of the following exception:\n",
      "\u001b[1;31mKeyError\u001b[0m                                  Traceback (most recent call last)",
      "Cell \u001b[1;32mIn[13], line 1\u001b[0m\n\u001b[1;32m----> 1\u001b[0m \u001b[43msummary_df\u001b[49m\u001b[43m[\u001b[49m\u001b[38;5;124;43m\"\u001b[39;49m\u001b[38;5;124;43mmood big_num\u001b[39;49m\u001b[38;5;124;43m\"\u001b[39;49m\u001b[43m]\u001b[49m[\u001b[38;5;241m1\u001b[39m]\n",
      "File \u001b[1;32m~\\anaconda3\\envs\\reality-ai\\Lib\\site-packages\\pandas\\core\\frame.py:3807\u001b[0m, in \u001b[0;36mDataFrame.__getitem__\u001b[1;34m(self, key)\u001b[0m\n\u001b[0;32m   3805\u001b[0m \u001b[38;5;28;01mif\u001b[39;00m \u001b[38;5;28mself\u001b[39m\u001b[38;5;241m.\u001b[39mcolumns\u001b[38;5;241m.\u001b[39mnlevels \u001b[38;5;241m>\u001b[39m \u001b[38;5;241m1\u001b[39m:\n\u001b[0;32m   3806\u001b[0m     \u001b[38;5;28;01mreturn\u001b[39;00m \u001b[38;5;28mself\u001b[39m\u001b[38;5;241m.\u001b[39m_getitem_multilevel(key)\n\u001b[1;32m-> 3807\u001b[0m indexer \u001b[38;5;241m=\u001b[39m \u001b[38;5;28;43mself\u001b[39;49m\u001b[38;5;241;43m.\u001b[39;49m\u001b[43mcolumns\u001b[49m\u001b[38;5;241;43m.\u001b[39;49m\u001b[43mget_loc\u001b[49m\u001b[43m(\u001b[49m\u001b[43mkey\u001b[49m\u001b[43m)\u001b[49m\n\u001b[0;32m   3808\u001b[0m \u001b[38;5;28;01mif\u001b[39;00m is_integer(indexer):\n\u001b[0;32m   3809\u001b[0m     indexer \u001b[38;5;241m=\u001b[39m [indexer]\n",
      "File \u001b[1;32m~\\anaconda3\\envs\\reality-ai\\Lib\\site-packages\\pandas\\core\\indexes\\base.py:3804\u001b[0m, in \u001b[0;36mIndex.get_loc\u001b[1;34m(self, key, method, tolerance)\u001b[0m\n\u001b[0;32m   3802\u001b[0m     \u001b[38;5;28;01mreturn\u001b[39;00m \u001b[38;5;28mself\u001b[39m\u001b[38;5;241m.\u001b[39m_engine\u001b[38;5;241m.\u001b[39mget_loc(casted_key)\n\u001b[0;32m   3803\u001b[0m \u001b[38;5;28;01mexcept\u001b[39;00m \u001b[38;5;167;01mKeyError\u001b[39;00m \u001b[38;5;28;01mas\u001b[39;00m err:\n\u001b[1;32m-> 3804\u001b[0m     \u001b[38;5;28;01mraise\u001b[39;00m \u001b[38;5;167;01mKeyError\u001b[39;00m(key) \u001b[38;5;28;01mfrom\u001b[39;00m \u001b[38;5;21;01merr\u001b[39;00m\n\u001b[0;32m   3805\u001b[0m \u001b[38;5;28;01mexcept\u001b[39;00m \u001b[38;5;167;01mTypeError\u001b[39;00m:\n\u001b[0;32m   3806\u001b[0m     \u001b[38;5;66;03m# If we have a listlike key, _check_indexing_error will raise\u001b[39;00m\n\u001b[0;32m   3807\u001b[0m     \u001b[38;5;66;03m#  InvalidIndexError. Otherwise we fall through and re-raise\u001b[39;00m\n\u001b[0;32m   3808\u001b[0m     \u001b[38;5;66;03m#  the TypeError.\u001b[39;00m\n\u001b[0;32m   3809\u001b[0m     \u001b[38;5;28mself\u001b[39m\u001b[38;5;241m.\u001b[39m_check_indexing_error(key)\n",
      "\u001b[1;31mKeyError\u001b[0m: 'mood big_num'"
     ]
    }
   ],
   "source": [
    "summary_df[\"mood big_num\"][1]"
   ]
  },
  {
   "cell_type": "code",
   "execution_count": null,
   "id": "1f199a3f",
   "metadata": {},
   "outputs": [],
   "source": []
  }
 ],
 "metadata": {
  "kernelspec": {
   "display_name": "Python 3 (ipykernel)",
   "language": "python",
   "name": "python3"
  },
  "language_info": {
   "codemirror_mode": {
    "name": "ipython",
    "version": 3
   },
   "file_extension": ".py",
   "mimetype": "text/x-python",
   "name": "python",
   "nbconvert_exporter": "python",
   "pygments_lexer": "ipython3",
   "version": "3.11.3"
  }
 },
 "nbformat": 4,
 "nbformat_minor": 5
}
